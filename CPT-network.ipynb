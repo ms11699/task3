{
 "cells": [
  {
   "cell_type": "code",
   "execution_count": 1,
   "id": "013540cd",
   "metadata": {},
   "outputs": [],
   "source": [
    "import networkx as nx\n",
    "import pandas as pd\n",
    "import matplotlib.pyplot as plt\n",
    "\n",
    "df=pd.read_csv(\"HomoSapiens_htb_hq.txt\",sep=\"\\t\",usecols=[\"Gene_A\",\"Gene_B\"])"
   ]
  },
  {
   "cell_type": "code",
   "execution_count": 2,
   "id": "a91d035c",
   "metadata": {},
   "outputs": [],
   "source": [
    "Gene=nx.from_pandas_edgelist(df,\"Gene_A\",\"Gene_B\",create_using=nx.DiGraph())\n"
   ]
  },
  {
   "cell_type": "code",
   "execution_count": null,
   "id": "a89060b9",
   "metadata": {},
   "outputs": [],
   "source": [
    "degrees=dict(Gene.degree())\n",
    "order=sorted(degrees.items(),key=lambda t:t[1])\n",
    "x,y=zip(*order)\n",
    "plt.plot(x,y)\n",
    "plt.show()"
   ]
  },
  {
   "cell_type": "code",
   "execution_count": null,
   "id": "ee0bc703",
   "metadata": {},
   "outputs": [],
   "source": [
    "from collections import Counter\n",
    "degree_sequence = [Gene.degree(n) for n in Gene.nodes]\n",
    "degree_counts = Counter(degree_sequence)\n",
    "min_degree, max_degree = min(degree_counts.keys()), max(degree_counts.keys())\n",
    "plt.xlabel(\"Degree\", fontsize=20)\n",
    "plt.ylabel(\"Number of Nodes\", fontsize=20)\n",
    "plot_x = list(range(min_degree, max_degree + 1))\n",
    "plot_y = [degree_counts.get(x, 0) for x in plot_x]\n",
    "plt.bar(plot_x, plot_y)"
   ]
  },
  {
   "cell_type": "code",
   "execution_count": null,
   "id": "73af3ae4",
   "metadata": {},
   "outputs": [],
   "source": [
    "import math\n",
    "def plot_degree_dist(Gene):\n",
    "    \n",
    "    degrees = Gene.degree()\n",
    "    degrees = dict(degrees)\n",
    "    values = sorted(set(degrees.values()))\n",
    "   \n",
    "    histo = [list(degrees.values()).count(x) for x in values]\n",
    "    P_k = [x / Gene.order() for x in histo]\n",
    "   \n",
    "    \n",
    "    plt.figure()\n",
    "    plt.bar(values, P_k)\n",
    "    plt.xlabel(\"k\",fontsize=20)\n",
    "    plt.ylabel(\"p(k)\", fontsize=20)\n",
    "    plt.title(\"Degree Distribution\", fontsize=20)\n",
    "    \n",
    "    plt.show()\n",
    "    plt.figure()\n",
    "    plt.loglog(values, P_k, \"bo\")\n",
    "    plt.xlabel(\"k\", fontsize=20)\n",
    "    plt.ylabel(\"log p(k)\", fontsize=20)\n",
    "    plt.show()\n",
    "\n",
    "    "
   ]
  },
  {
   "cell_type": "code",
   "execution_count": null,
   "id": "20571b55",
   "metadata": {},
   "outputs": [],
   "source": [
    "plot_degree_dist(Gene)\n"
   ]
  }
 ],
 "metadata": {
  "kernelspec": {
   "display_name": "Python 3",
   "language": "python",
   "name": "python3"
  },
  "language_info": {
   "codemirror_mode": {
    "name": "ipython",
    "version": 3
   },
   "file_extension": ".py",
   "mimetype": "text/x-python",
   "name": "python",
   "nbconvert_exporter": "python",
   "pygments_lexer": "ipython3",
   "version": "3.8.8"
  }
 },
 "nbformat": 4,
 "nbformat_minor": 5
}
